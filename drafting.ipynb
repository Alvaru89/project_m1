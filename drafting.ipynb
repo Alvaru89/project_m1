{
 "cells": [
  {
   "cell_type": "code",
   "execution_count": null,
   "metadata": {},
   "outputs": [],
   "source": [
    "import sqlite3\n",
    "import pandas as pd\n",
    "import numpy as np"
   ]
  },
  {
   "cell_type": "code",
   "execution_count": 8,
   "metadata": {},
   "outputs": [],
   "source": [
    "#Importing DATA\n",
    "conn = sqlite3.connect('data/raw_data_project_m1.db')\n",
    "\n",
    "sql_statement='''\n",
    "          SELECT personal_info.uuid,country_info.country_code, career_info.normalized_job_code, personal_info.age\n",
    "          FROM personal_info\n",
    "          JOIN career_info ON personal_info.uuid=career_info.uuid\n",
    "          JOIN country_info ON personal_info.uuid=country_info.uuid\n",
    "          JOIN poll_info ON personal_info.uuid=poll_info.uuid\n",
    "          '''\n",
    "raw_df=pd.DataFrame(pd.read_sql_query(sql_statement, conn))\n",
    "\n",
    "raw_df.head()\n",
    "# raw_df.info()"
   ]
  },
  {
   "cell_type": "code",
   "execution_count": 40,
   "metadata": {},
   "outputs": [
    {
     "ename": "TypeError",
     "evalue": "argument of type 'int' is not iterable",
     "output_type": "error",
     "traceback": [
      "\u001b[0;31m---------------------------------------------------------------------------\u001b[0m",
      "\u001b[0;31mTypeError\u001b[0m                                 Traceback (most recent call last)",
      "\u001b[0;32m<ipython-input-40-9e2b325060bb>\u001b[0m in \u001b[0;36m<module>\u001b[0;34m\u001b[0m\n\u001b[1;32m      8\u001b[0m \u001b[0mclean_age\u001b[0m\u001b[0;34m=\u001b[0m\u001b[0;34m[\u001b[0m\u001b[0;34m]\u001b[0m\u001b[0;34m\u001b[0m\u001b[0;34m\u001b[0m\u001b[0m\n\u001b[1;32m      9\u001b[0m \u001b[0;32mfor\u001b[0m \u001b[0mitem\u001b[0m \u001b[0;32min\u001b[0m \u001b[0mraw_df\u001b[0m\u001b[0;34m[\u001b[0m\u001b[0;34m'age'\u001b[0m\u001b[0;34m]\u001b[0m\u001b[0;34m:\u001b[0m\u001b[0;34m\u001b[0m\u001b[0;34m\u001b[0m\u001b[0m\n\u001b[0;32m---> 10\u001b[0;31m     \u001b[0;32mif\u001b[0m \u001b[0;34m\"years old\"\u001b[0m \u001b[0;32min\u001b[0m \u001b[0mitem\u001b[0m\u001b[0;34m:\u001b[0m\u001b[0;34m\u001b[0m\u001b[0;34m\u001b[0m\u001b[0m\n\u001b[0m\u001b[1;32m     11\u001b[0m         \u001b[0mclean_age\u001b[0m\u001b[0;34m.\u001b[0m\u001b[0mappend\u001b[0m\u001b[0;34m(\u001b[0m\u001b[0mint\u001b[0m\u001b[0;34m(\u001b[0m\u001b[0mitem\u001b[0m\u001b[0;34m[\u001b[0m\u001b[0;36m0\u001b[0m\u001b[0;34m:\u001b[0m\u001b[0;36m2\u001b[0m\u001b[0;34m]\u001b[0m\u001b[0;34m)\u001b[0m\u001b[0;34m)\u001b[0m\u001b[0;34m\u001b[0m\u001b[0;34m\u001b[0m\u001b[0m\n\u001b[1;32m     12\u001b[0m     \u001b[0;32melif\u001b[0m \u001b[0mlen\u001b[0m\u001b[0;34m(\u001b[0m\u001b[0mitem\u001b[0m\u001b[0;34m)\u001b[0m\u001b[0;34m>=\u001b[0m\u001b[0;36m4\u001b[0m\u001b[0;34m:\u001b[0m\u001b[0;34m\u001b[0m\u001b[0;34m\u001b[0m\u001b[0m\n",
      "\u001b[0;31mTypeError\u001b[0m: argument of type 'int' is not iterable"
     ]
    }
   ],
   "source": [
    "#Cleaning age\n",
    "\n",
    "#Exploring values\n",
    "# age_values=raw_df['age'].unique()\n",
    "# print(list(age_values))\n",
    "\n",
    "# cleaning\n",
    "clean_age=[]\n",
    "for item in raw_df['age']:\n",
    "    if \"years old\" in item:\n",
    "        clean_age.append(int(item[0:2]))\n",
    "    elif len(item)>=4:\n",
    "        clean_age.append(2016-int(item))\n",
    "\n",
    "raw_df['age']=clean_age #add to dataframe\n",
    "\n",
    "raw_df['age']=raw_df['age']+4 #convert to 2020"
   ]
  },
  {
   "cell_type": "code",
   "execution_count": 75,
   "metadata": {},
   "outputs": [],
   "source": [
    "#Cleaning country_code\n",
    "\n",
    "#Exploring values\n",
    "# list(raw_df['country_code'].unique())\n",
    "#Importing csv of country-country code\n",
    "country_equiv=pd.read_csv('data/country_code.csv',names=['Country','Code'])\n",
    "#Converting to dictionary\n",
    "country_dict={}\n",
    "for i in country_equiv.index:\n",
    "    k=country_equiv.loc[i,'Code']\n",
    "    v=country_equiv.loc[i,'Country']\n",
    "    country_dict[k[1:3]]=v\n",
    "#Adding missing values\n",
    "country_dict['GB']='Great Britain'\n",
    "country_dict['GR']='Greece'\n",
    "#Adding country to dataframe\n",
    "for i in raw_df.index:\n",
    "    code=raw_df.loc[i,'country_code']\n",
    "    raw_df.loc[i,'country']=country_dict[code]"
   ]
  },
  {
   "cell_type": "code",
   "execution_count": 17,
   "metadata": {},
   "outputs": [],
   "source": [
    "#REPORTING"
   ]
  },
  {
   "cell_type": "code",
   "execution_count": null,
   "metadata": {},
   "outputs": [],
   "source": [
    "while True:\n",
    "    try:\n",
    "        report_type=int(input('''Please enter which type of report you like:\n",
    "        (1) To get the table for every country included in the dataset \n",
    "        (2) To get the table for a specific country imputed by the user'''))\n",
    "        break\n",
    "    except:\n",
    "        pass"
   ]
  },
  {
   "cell_type": "code",
   "execution_count": null,
   "metadata": {},
   "outputs": [],
   "source": []
  }
 ],
 "metadata": {
  "kernelspec": {
   "display_name": "Python [conda env:ironhack_env]",
   "language": "python",
   "name": "conda-env-ironhack_env-py"
  },
  "language_info": {
   "codemirror_mode": {
    "name": "ipython",
    "version": 3
   },
   "file_extension": ".py",
   "mimetype": "text/x-python",
   "name": "python",
   "nbconvert_exporter": "python",
   "pygments_lexer": "ipython3",
   "version": "3.8.5"
  }
 },
 "nbformat": 4,
 "nbformat_minor": 4
}
